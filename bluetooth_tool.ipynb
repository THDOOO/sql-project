{
 "cells": [
  {
   "cell_type": "code",
   "execution_count": 6,
   "id": "02ba413b",
   "metadata": {},
   "outputs": [
    {
     "ename": "BleakDeviceNotFoundError",
     "evalue": "Device with address 2C:06:10:39:1A:3C was not found.",
     "output_type": "error",
     "traceback": [
      "\u001b[31m---------------------------------------------------------------------------\u001b[39m",
      "\u001b[31mBleakDeviceNotFoundError\u001b[39m                  Traceback (most recent call last)",
      "\u001b[36mCell\u001b[39m\u001b[36m \u001b[39m\u001b[32mIn[6]\u001b[39m\u001b[32m, line 14\u001b[39m\n\u001b[32m     11\u001b[39m         battery_level = \u001b[38;5;28;01mawait\u001b[39;00m client.read_gatt_char(BATTERY_UUID)\n\u001b[32m     12\u001b[39m         \u001b[38;5;28mprint\u001b[39m(\u001b[33mf\u001b[39m\u001b[33m\"\u001b[39m\u001b[33mBattery level: \u001b[39m\u001b[38;5;132;01m{\u001b[39;00m\u001b[38;5;28mint\u001b[39m(battery_level[\u001b[32m0\u001b[39m])\u001b[38;5;132;01m}\u001b[39;00m\u001b[33m%\u001b[39m\u001b[33m\"\u001b[39m)\n\u001b[32m---> \u001b[39m\u001b[32m14\u001b[39m \u001b[38;5;28;01mawait\u001b[39;00m main()\n",
      "\u001b[36mCell\u001b[39m\u001b[36m \u001b[39m\u001b[32mIn[6]\u001b[39m\u001b[32m, line 10\u001b[39m, in \u001b[36mmain\u001b[39m\u001b[34m()\u001b[39m\n\u001b[32m      9\u001b[39m \u001b[38;5;28;01masync\u001b[39;00m \u001b[38;5;28;01mdef\u001b[39;00m\u001b[38;5;250m \u001b[39m\u001b[34mmain\u001b[39m():\n\u001b[32m---> \u001b[39m\u001b[32m10\u001b[39m     \u001b[38;5;28;01masync\u001b[39;00m \u001b[38;5;28;01mwith\u001b[39;00m BleakClient(address) \u001b[38;5;28;01mas\u001b[39;00m client:\n\u001b[32m     11\u001b[39m         battery_level = \u001b[38;5;28;01mawait\u001b[39;00m client.read_gatt_char(BATTERY_UUID)\n\u001b[32m     12\u001b[39m         \u001b[38;5;28mprint\u001b[39m(\u001b[33mf\u001b[39m\u001b[33m\"\u001b[39m\u001b[33mBattery level: \u001b[39m\u001b[38;5;132;01m{\u001b[39;00m\u001b[38;5;28mint\u001b[39m(battery_level[\u001b[32m0\u001b[39m])\u001b[38;5;132;01m}\u001b[39;00m\u001b[33m%\u001b[39m\u001b[33m\"\u001b[39m)\n",
      "\u001b[36mFile \u001b[39m\u001b[32mc:\\Users\\RickE\\AppData\\Local\\Programs\\Python\\Python313\\Lib\\site-packages\\bleak\\__init__.py:570\u001b[39m, in \u001b[36mBleakClient.__aenter__\u001b[39m\u001b[34m(self)\u001b[39m\n\u001b[32m    569\u001b[39m \u001b[38;5;28;01masync\u001b[39;00m \u001b[38;5;28;01mdef\u001b[39;00m\u001b[38;5;250m \u001b[39m\u001b[34m__aenter__\u001b[39m(\u001b[38;5;28mself\u001b[39m) -> BleakClient:\n\u001b[32m--> \u001b[39m\u001b[32m570\u001b[39m     \u001b[38;5;28;01mawait\u001b[39;00m \u001b[38;5;28mself\u001b[39m.connect()\n\u001b[32m    571\u001b[39m     \u001b[38;5;28;01mreturn\u001b[39;00m \u001b[38;5;28mself\u001b[39m\n",
      "\u001b[36mFile \u001b[39m\u001b[32mc:\\Users\\RickE\\AppData\\Local\\Programs\\Python\\Python313\\Lib\\site-packages\\bleak\\__init__.py:615\u001b[39m, in \u001b[36mBleakClient.connect\u001b[39m\u001b[34m(self, **kwargs)\u001b[39m\n\u001b[32m    605\u001b[39m \u001b[38;5;28;01masync\u001b[39;00m \u001b[38;5;28;01mdef\u001b[39;00m\u001b[38;5;250m \u001b[39m\u001b[34mconnect\u001b[39m(\u001b[38;5;28mself\u001b[39m, **kwargs) -> \u001b[38;5;28mbool\u001b[39m:\n\u001b[32m    606\u001b[39m \u001b[38;5;250m    \u001b[39m\u001b[33;03m\"\"\"Connect to the specified GATT server.\u001b[39;00m\n\u001b[32m    607\u001b[39m \n\u001b[32m    608\u001b[39m \u001b[33;03m    Args:\u001b[39;00m\n\u001b[32m   (...)\u001b[39m\u001b[32m    613\u001b[39m \n\u001b[32m    614\u001b[39m \u001b[33;03m    \"\"\"\u001b[39;00m\n\u001b[32m--> \u001b[39m\u001b[32m615\u001b[39m     \u001b[38;5;28;01mreturn\u001b[39;00m \u001b[38;5;28;01mawait\u001b[39;00m \u001b[38;5;28mself\u001b[39m._backend.connect(**kwargs)\n",
      "\u001b[36mFile \u001b[39m\u001b[32mc:\\Users\\RickE\\AppData\\Local\\Programs\\Python\\Python313\\Lib\\site-packages\\bleak\\backends\\winrt\\client.py:293\u001b[39m, in \u001b[36mBleakClientWinRT.connect\u001b[39m\u001b[34m(self, **kwargs)\u001b[39m\n\u001b[32m    288\u001b[39m device = \u001b[38;5;28;01mawait\u001b[39;00m BleakScanner.find_device_by_address(\n\u001b[32m    289\u001b[39m     \u001b[38;5;28mself\u001b[39m.address, timeout=timeout, backend=BleakScannerWinRT\n\u001b[32m    290\u001b[39m )\n\u001b[32m    292\u001b[39m \u001b[38;5;28;01mif\u001b[39;00m device \u001b[38;5;129;01mis\u001b[39;00m \u001b[38;5;28;01mNone\u001b[39;00m:\n\u001b[32m--> \u001b[39m\u001b[32m293\u001b[39m     \u001b[38;5;28;01mraise\u001b[39;00m BleakDeviceNotFoundError(\n\u001b[32m    294\u001b[39m         \u001b[38;5;28mself\u001b[39m.address, \u001b[33mf\u001b[39m\u001b[33m\"\u001b[39m\u001b[33mDevice with address \u001b[39m\u001b[38;5;132;01m{\u001b[39;00m\u001b[38;5;28mself\u001b[39m.address\u001b[38;5;132;01m}\u001b[39;00m\u001b[33m was not found.\u001b[39m\u001b[33m\"\u001b[39m\n\u001b[32m    295\u001b[39m     )\n\u001b[32m    297\u001b[39m data = device.details\n\u001b[32m    298\u001b[39m \u001b[38;5;28mself\u001b[39m._device_info = (data.adv \u001b[38;5;129;01mor\u001b[39;00m data.scan).bluetooth_address\n",
      "\u001b[31mBleakDeviceNotFoundError\u001b[39m: Device with address 2C:06:10:39:1A:3C was not found."
     ]
    }
   ],
   "source": [
    "import asyncio\n",
    "from bleak import BleakClient\n",
    "\n",
    "address = \"2C:06:10:39:1A:3C\"\n",
    "\n",
    "  # MAC-Adresse deines Geräts\n",
    "BATTERY_UUID = \"00002a19-0000-1000-8000-00805f9b34fb\"\n",
    "\n",
    "async def main():\n",
    "    async with BleakClient(address) as client:\n",
    "        battery_level = await client.read_gatt_char(BATTERY_UUID)\n",
    "        print(f\"Battery level: {int(battery_level[0])}%\")\n",
    "\n",
    "await main()\n"
   ]
  },
  {
   "cell_type": "code",
   "execution_count": 7,
   "id": "488f3c82",
   "metadata": {},
   "outputs": [
    {
     "name": "stdout",
     "output_type": "stream",
     "text": [
      "Name: Fw02, Address: BA:A1:AB:CC:FC:D7\n",
      "Name: None, Address: E0:70:EA:0B:DF:25\n",
      "Name: None, Address: 53:C8:DC:E8:9D:1A\n",
      "Name: None, Address: 6E:54:F8:3A:7A:EE\n",
      "Name: None, Address: 28:D0:F3:99:3B:9B\n",
      "Name: None, Address: 38:68:A4:6B:EC:0C\n",
      "Name: None, Address: 70:2A:D5:80:7D:D2\n",
      "Name: None, Address: 68:3E:46:BF:6F:56\n",
      "Name: None, Address: 7D:E4:D7:68:82:A1\n",
      "Name: None, Address: 45:C1:4E:F9:14:77\n",
      "Name: None, Address: 38:68:A4:72:05:C1\n",
      "Name: None, Address: D3:39:85:B1:06:C2\n",
      "Name: None, Address: 41:1B:21:DE:62:52\n",
      "Name: None, Address: F8:3F:51:98:7D:A3\n",
      "Name: None, Address: E0:89:7E:7F:B7:BA\n",
      "Name: None, Address: 1C:5E:E1:80:40:78\n",
      "Name: None, Address: CD:52:40:38:B2:B1\n",
      "Name: None, Address: 2D:A3:47:93:DD:1F\n",
      "Name: None, Address: 53:45:11:52:EF:53\n",
      "Name: None, Address: 6D:82:81:0B:3C:FE\n",
      "Name: None, Address: F2:61:BA:37:5C:B7\n",
      "Name: None, Address: 2E:3B:0E:C2:B7:56\n",
      "Name: None, Address: 78:E3:2A:26:10:60\n",
      "Name: None, Address: E7:C1:3D:A2:F0:08\n"
     ]
    }
   ],
   "source": [
    "from bleak import BleakScanner\n",
    "\n",
    "devices = await BleakScanner.discover()\n",
    "for d in devices:\n",
    "    print(f\"Name: {d.name}, Address: {d.address}\")\n"
   ]
  },
  {
   "cell_type": "code",
   "execution_count": 8,
   "id": "b6f891ac",
   "metadata": {},
   "outputs": [
    {
     "name": "stdout",
     "output_type": "stream",
     "text": [
      "\n",
      "🔍 Prüfe Gerät: Unbekannt (70:2A:D5:80:7D:D2)\n",
      "⚠️  Keine Akkudaten verfügbar (Device with address 70:2A:D5:80:7D:D2 was not found.)\n",
      "\n",
      "🔍 Prüfe Gerät: Unbekannt (41:1B:21:DE:62:52)\n",
      "⚠️  Keine Akkudaten verfügbar (Device with address 41:1B:21:DE:62:52 was not found.)\n",
      "\n",
      "🔍 Prüfe Gerät: Unbekannt (68:3E:46:BF:6F:56)\n",
      "⚠️  Keine Akkudaten verfügbar (Could not read characteristic handle 21: Protocol Error 0x05: Insufficient Authentication)\n",
      "\n",
      "🔍 Prüfe Gerät: Unbekannt (28:D0:F3:99:3B:9B)\n",
      "⚠️  Keine Akkudaten verfügbar (Characteristic 00002a19-0000-1000-8000-00805f9b34fb was not found!)\n",
      "\n",
      "🔍 Prüfe Gerät: Unbekannt (38:68:A4:6B:EC:0C)\n",
      "⚠️  Keine Akkudaten verfügbar (Device with address 38:68:A4:6B:EC:0C was not found.)\n",
      "\n",
      "🔍 Prüfe Gerät: Unbekannt (E0:70:EA:0B:DF:25)\n",
      "⚠️  Keine Akkudaten verfügbar ()\n",
      "\n",
      "🔍 Prüfe Gerät: Unbekannt (38:68:A4:72:05:C1)\n",
      "⚠️  Keine Akkudaten verfügbar (Device with address 38:68:A4:72:05:C1 was not found.)\n",
      "\n",
      "🔍 Prüfe Gerät: Unbekannt (E0:89:7E:7F:B7:BA)\n",
      "⚠️  Keine Akkudaten verfügbar (Could not get GATT services: Unreachable)\n",
      "\n",
      "🔍 Prüfe Gerät: Unbekannt (F8:3F:51:98:7D:A3)\n",
      "⚠️  Keine Akkudaten verfügbar (Could not get GATT services: Unreachable)\n",
      "\n",
      "🔍 Prüfe Gerät: Unbekannt (45:C1:4E:F9:14:77)\n",
      "⚠️  Keine Akkudaten verfügbar (Could not read characteristic handle 26: Protocol Error 0x05: Insufficient Authentication)\n",
      "\n",
      "🔍 Prüfe Gerät: Unbekannt (7D:E4:D7:68:82:A1)\n",
      "⚠️  Keine Akkudaten verfügbar (Device with address 7D:E4:D7:68:82:A1 was not found.)\n",
      "\n",
      "🔍 Prüfe Gerät: Unbekannt (62:F2:13:7D:0A:CC)\n",
      "⚠️  Keine Akkudaten verfügbar ()\n",
      "\n",
      "🔍 Prüfe Gerät: Unbekannt (2D:A3:47:93:DD:1F)\n",
      "⚠️  Keine Akkudaten verfügbar (Device with address 2D:A3:47:93:DD:1F was not found.)\n",
      "\n",
      "🔍 Prüfe Gerät: Unbekannt (F5:19:7B:15:10:D7)\n",
      "⚠️  Keine Akkudaten verfügbar (Device with address F5:19:7B:15:10:D7 was not found.)\n",
      "\n",
      "🔍 Prüfe Gerät: Unbekannt (6E:54:F8:3A:7A:EE)\n",
      "⚠️  Keine Akkudaten verfügbar (Characteristic 00002a19-0000-1000-8000-00805f9b34fb was not found!)\n",
      "\n",
      "🔍 Prüfe Gerät: Unbekannt (32:B4:DF:D9:07:15)\n",
      "⚠️  Keine Akkudaten verfügbar (Device with address 32:B4:DF:D9:07:15 was not found.)\n",
      "\n",
      "🔍 Prüfe Gerät: Unbekannt (4A:F5:C0:16:F4:C9)\n",
      "⚠️  Keine Akkudaten verfügbar (Device with address 4A:F5:C0:16:F4:C9 was not found.)\n",
      "\n",
      "🔍 Prüfe Gerät: Unbekannt (6D:82:81:0B:3C:FE)\n",
      "⚠️  Keine Akkudaten verfügbar (Device with address 6D:82:81:0B:3C:FE was not found.)\n"
     ]
    }
   ],
   "source": [
    "from bleak import BleakClient, BleakScanner\n",
    "\n",
    "BATTERY_UUID = \"00002a19-0000-1000-8000-00805f9b34fb\"\n",
    "\n",
    "async def check_battery_levels():\n",
    "    devices = await BleakScanner.discover()\n",
    "\n",
    "    for device in devices:\n",
    "        print(f\"\\n🔍 Prüfe Gerät: {device.name or 'Unbekannt'} ({device.address})\")\n",
    "        try:\n",
    "            async with BleakClient(device.address) as client:\n",
    "                battery = await client.read_gatt_char(BATTERY_UUID)\n",
    "                print(f\"🔋 Akkustand: {int(battery[0])}%\")\n",
    "        except Exception as e:\n",
    "            print(f\"⚠️  Keine Akkudaten verfügbar ({str(e)})\")\n",
    "\n",
    "await check_battery_levels()\n"
   ]
  },
  {
   "cell_type": "code",
   "execution_count": 9,
   "id": "b5fbea70",
   "metadata": {},
   "outputs": [
    {
     "name": "stdout",
     "output_type": "stream",
     "text": [
      "Service: 00001801-0000-1000-8000-00805f9b34fb\n",
      "  └── Characteristic: 00002a05-0000-1000-8000-00805f9b34fb | ['indicate']\n",
      "Service: 00001800-0000-1000-8000-00805f9b34fb\n",
      "  └── Characteristic: 00002a00-0000-1000-8000-00805f9b34fb | ['read']\n",
      "  └── Characteristic: 00002a01-0000-1000-8000-00805f9b34fb | ['read']\n",
      "  └── Characteristic: 00002a04-0000-1000-8000-00805f9b34fb | ['read']\n",
      "  └── Characteristic: 00002aa6-0000-1000-8000-00805f9b34fb | ['read']\n",
      "Service: 000001ff-3c17-d293-8e48-14fe2e4da212\n",
      "  └── Characteristic: 0000ff02-0000-1000-8000-00805f9b34fb | ['write']\n",
      "  └── Characteristic: 0000ff03-0000-1000-8000-00805f9b34fb | ['read', 'write-without-response', 'notify']\n",
      "  └── Characteristic: 0000ff04-0000-1000-8000-00805f9b34fb | ['read', 'write']\n",
      "Service: 0000d0ff-3c17-d293-8e48-14fe2e4da212\n",
      "  └── Characteristic: 0000ffd1-0000-1000-8000-00805f9b34fb | ['write-without-response']\n",
      "  └── Characteristic: 0000ffd2-0000-1000-8000-00805f9b34fb | ['read']\n",
      "  └── Characteristic: 0000ffd3-0000-1000-8000-00805f9b34fb | ['read']\n",
      "  └── Characteristic: 0000ffd4-0000-1000-8000-00805f9b34fb | ['read']\n",
      "  └── Characteristic: 0000ffd5-0000-1000-8000-00805f9b34fb | ['read']\n",
      "  └── Characteristic: 0000ffd8-0000-1000-8000-00805f9b34fb | ['write-without-response']\n",
      "  └── Characteristic: 0000fff1-0000-1000-8000-00805f9b34fb | ['read']\n",
      "  └── Characteristic: 0000fff2-0000-1000-8000-00805f9b34fb | ['write']\n",
      "  └── Characteristic: 0000ffe0-0000-1000-8000-00805f9b34fb | ['read']\n",
      "  └── Characteristic: 0000fff3-0000-1000-8000-00805f9b34fb | ['read']\n",
      "Service: 00006287-3c17-d293-8e48-14fe2e4da212\n",
      "  └── Characteristic: 00006387-3c17-d293-8e48-14fe2e4da212 | ['write-without-response']\n",
      "  └── Characteristic: 00006487-3c17-d293-8e48-14fe2e4da212 | ['write', 'notify']\n",
      "Service: 0000fee7-0000-1000-8000-00805f9b34fb\n",
      "  └── Characteristic: 0000fec9-0000-1000-8000-00805f9b34fb | ['read']\n",
      "  └── Characteristic: 0000fea1-0000-1000-8000-00805f9b34fb | ['read', 'notify']\n",
      "Service: 00003802-0000-1000-8000-00805f9b34fb\n",
      "  └── Characteristic: 00004a02-0000-1000-8000-00805f9b34fb | ['read', 'write', 'notify']\n"
     ]
    },
    {
     "name": "stderr",
     "output_type": "stream",
     "text": [
      "C:\\Users\\RickE\\AppData\\Local\\Temp\\ipykernel_7828\\40542897.py:7: FutureWarning: This method will be removed future version, use the services property instead.\n",
      "  services = await client.get_services()\n"
     ]
    }
   ],
   "source": [
    "from bleak import BleakClient\n",
    "\n",
    "address = \"BA:A1:AB:CC:FC:D7\"  # Adresse von Fw02\n",
    "\n",
    "async def print_services():\n",
    "    async with BleakClient(address) as client:\n",
    "        services = await client.get_services()\n",
    "        for service in services:\n",
    "            print(f\"Service: {service.uuid}\")\n",
    "            for char in service.characteristics:\n",
    "                print(f\"  └── Characteristic: {char.uuid} | {char.properties}\")\n",
    "\n",
    "await print_services()\n"
   ]
  },
  {
   "cell_type": "code",
   "execution_count": 10,
   "id": "1fbbd914",
   "metadata": {},
   "outputs": [
    {
     "name": "stderr",
     "output_type": "stream",
     "text": [
      "C:\\Users\\RickE\\AppData\\Local\\Temp\\ipykernel_7828\\3632886846.py:9: FutureWarning: This method will be removed future version, use the services property instead.\n",
      "  services = await client.get_services()\n"
     ]
    },
    {
     "ename": "BleakError",
     "evalue": "Could not read characteristic handle 17: Unreachable",
     "output_type": "error",
     "traceback": [
      "\u001b[31m---------------------------------------------------------------------------\u001b[39m",
      "\u001b[31mBleakError\u001b[39m                                Traceback (most recent call last)",
      "\u001b[36mCell\u001b[39m\u001b[36m \u001b[39m\u001b[32mIn[10]\u001b[39m\u001b[32m, line 17\u001b[39m\n\u001b[32m     14\u001b[39m                     \u001b[38;5;28mprint\u001b[39m(\u001b[33mf\u001b[39m\u001b[33m\"\u001b[39m\u001b[33mCustom Data: \u001b[39m\u001b[38;5;132;01m{\u001b[39;00mdata\u001b[38;5;132;01m}\u001b[39;00m\u001b[33m\"\u001b[39m)\n\u001b[32m     15\u001b[39m                     \u001b[38;5;28;01mbreak\u001b[39;00m\n\u001b[32m---> \u001b[39m\u001b[32m17\u001b[39m \u001b[38;5;28;01mawait\u001b[39;00m read_custom_characteristic()\n",
      "\u001b[36mCell\u001b[39m\u001b[36m \u001b[39m\u001b[32mIn[10]\u001b[39m\u001b[32m, line 13\u001b[39m, in \u001b[36mread_custom_characteristic\u001b[39m\u001b[34m()\u001b[39m\n\u001b[32m     11\u001b[39m \u001b[38;5;28;01mfor\u001b[39;00m char \u001b[38;5;129;01min\u001b[39;00m service.characteristics:\n\u001b[32m     12\u001b[39m     \u001b[38;5;28;01mif\u001b[39;00m char.uuid == custom_char_uuid:  \u001b[38;5;66;03m# Wir suchen nach unserer Custom-UUID\u001b[39;00m\n\u001b[32m---> \u001b[39m\u001b[32m13\u001b[39m         data = \u001b[38;5;28;01mawait\u001b[39;00m client.read_gatt_char(custom_char_uuid)\n\u001b[32m     14\u001b[39m         \u001b[38;5;28mprint\u001b[39m(\u001b[33mf\u001b[39m\u001b[33m\"\u001b[39m\u001b[33mCustom Data: \u001b[39m\u001b[38;5;132;01m{\u001b[39;00mdata\u001b[38;5;132;01m}\u001b[39;00m\u001b[33m\"\u001b[39m)\n\u001b[32m     15\u001b[39m         \u001b[38;5;28;01mbreak\u001b[39;00m\n",
      "\u001b[36mFile \u001b[39m\u001b[32mc:\\Users\\RickE\\AppData\\Local\\Programs\\Python\\Python313\\Lib\\site-packages\\bleak\\__init__.py:721\u001b[39m, in \u001b[36mBleakClient.read_gatt_char\u001b[39m\u001b[34m(self, char_specifier, **kwargs)\u001b[39m\n\u001b[32m    703\u001b[39m \u001b[38;5;28;01masync\u001b[39;00m \u001b[38;5;28;01mdef\u001b[39;00m\u001b[38;5;250m \u001b[39m\u001b[34mread_gatt_char\u001b[39m(\n\u001b[32m    704\u001b[39m     \u001b[38;5;28mself\u001b[39m,\n\u001b[32m    705\u001b[39m     char_specifier: Union[BleakGATTCharacteristic, \u001b[38;5;28mint\u001b[39m, \u001b[38;5;28mstr\u001b[39m, uuid.UUID],\n\u001b[32m    706\u001b[39m     **kwargs,\n\u001b[32m    707\u001b[39m ) -> \u001b[38;5;28mbytearray\u001b[39m:\n\u001b[32m    708\u001b[39m \u001b[38;5;250m    \u001b[39m\u001b[33;03m\"\"\"\u001b[39;00m\n\u001b[32m    709\u001b[39m \u001b[33;03m    Perform read operation on the specified GATT characteristic.\u001b[39;00m\n\u001b[32m    710\u001b[39m \n\u001b[32m   (...)\u001b[39m\u001b[32m    719\u001b[39m \n\u001b[32m    720\u001b[39m \u001b[33;03m    \"\"\"\u001b[39;00m\n\u001b[32m--> \u001b[39m\u001b[32m721\u001b[39m     \u001b[38;5;28;01mreturn\u001b[39;00m \u001b[38;5;28;01mawait\u001b[39;00m \u001b[38;5;28mself\u001b[39m._backend.read_gatt_char(char_specifier, **kwargs)\n",
      "\u001b[36mFile \u001b[39m\u001b[32mc:\\Users\\RickE\\AppData\\Local\\Programs\\Python\\Python313\\Lib\\site-packages\\bleak\\backends\\winrt\\client.py:833\u001b[39m, in \u001b[36mBleakClientWinRT.read_gatt_char\u001b[39m\u001b[34m(self, char_specifier, **kwargs)\u001b[39m\n\u001b[32m    829\u001b[39m \u001b[38;5;28;01mif\u001b[39;00m \u001b[38;5;129;01mnot\u001b[39;00m characteristic:\n\u001b[32m    830\u001b[39m     \u001b[38;5;28;01mraise\u001b[39;00m BleakCharacteristicNotFoundError(char_specifier)\n\u001b[32m    832\u001b[39m value = \u001b[38;5;28mbytearray\u001b[39m(\n\u001b[32m--> \u001b[39m\u001b[32m833\u001b[39m     \u001b[43m_ensure_success\u001b[49m\u001b[43m(\u001b[49m\n\u001b[32m    834\u001b[39m \u001b[43m        \u001b[49m\u001b[38;5;28;43;01mawait\u001b[39;49;00m\u001b[43m \u001b[49m\u001b[43mcharacteristic\u001b[49m\u001b[43m.\u001b[49m\u001b[43mobj\u001b[49m\u001b[43m.\u001b[49m\u001b[43mread_value_async\u001b[49m\u001b[43m(\u001b[49m\n\u001b[32m    835\u001b[39m \u001b[43m            \u001b[49m\u001b[43mBluetoothCacheMode\u001b[49m\u001b[43m.\u001b[49m\u001b[43mCACHED\u001b[49m\n\u001b[32m    836\u001b[39m \u001b[43m            \u001b[49m\u001b[38;5;28;43;01mif\u001b[39;49;00m\u001b[43m \u001b[49m\u001b[43muse_cached\u001b[49m\n\u001b[32m    837\u001b[39m \u001b[43m            \u001b[49m\u001b[38;5;28;43;01melse\u001b[39;49;00m\u001b[43m \u001b[49m\u001b[43mBluetoothCacheMode\u001b[49m\u001b[43m.\u001b[49m\u001b[43mUNCACHED\u001b[49m\n\u001b[32m    838\u001b[39m \u001b[43m        \u001b[49m\u001b[43m)\u001b[49m\u001b[43m,\u001b[49m\n\u001b[32m    839\u001b[39m \u001b[43m        \u001b[49m\u001b[33;43m\"\u001b[39;49m\u001b[33;43mvalue\u001b[39;49m\u001b[33;43m\"\u001b[39;49m\u001b[43m,\u001b[49m\n\u001b[32m    840\u001b[39m \u001b[43m        \u001b[49m\u001b[33;43mf\u001b[39;49m\u001b[33;43m\"\u001b[39;49m\u001b[33;43mCould not read characteristic handle \u001b[39;49m\u001b[38;5;132;43;01m{\u001b[39;49;00m\u001b[43mcharacteristic\u001b[49m\u001b[43m.\u001b[49m\u001b[43mhandle\u001b[49m\u001b[38;5;132;43;01m}\u001b[39;49;00m\u001b[33;43m\"\u001b[39;49m\u001b[43m,\u001b[49m\n\u001b[32m    841\u001b[39m \u001b[43m    \u001b[49m\u001b[43m)\u001b[49m\n\u001b[32m    842\u001b[39m )\n\u001b[32m    844\u001b[39m logger.debug(\u001b[33m\"\u001b[39m\u001b[33mRead Characteristic \u001b[39m\u001b[38;5;132;01m%04X\u001b[39;00m\u001b[33m : \u001b[39m\u001b[38;5;132;01m%s\u001b[39;00m\u001b[33m\"\u001b[39m, characteristic.handle, value)\n\u001b[32m    846\u001b[39m \u001b[38;5;28;01mreturn\u001b[39;00m value\n",
      "\u001b[36mFile \u001b[39m\u001b[32mc:\\Users\\RickE\\AppData\\Local\\Programs\\Python\\Python313\\Lib\\site-packages\\bleak\\backends\\winrt\\client.py:168\u001b[39m, in \u001b[36m_ensure_success\u001b[39m\u001b[34m(result, attr, fail_msg)\u001b[39m\n\u001b[32m    165\u001b[39m     \u001b[38;5;28;01mraise\u001b[39;00m BleakError(\u001b[33mf\u001b[39m\u001b[33m\"\u001b[39m\u001b[38;5;132;01m{\u001b[39;00mfail_msg\u001b[38;5;132;01m}\u001b[39;00m\u001b[33m: Access Denied\u001b[39m\u001b[33m\"\u001b[39m)\n\u001b[32m    167\u001b[39m \u001b[38;5;28;01mif\u001b[39;00m status == GattCommunicationStatus.UNREACHABLE:\n\u001b[32m--> \u001b[39m\u001b[32m168\u001b[39m     \u001b[38;5;28;01mraise\u001b[39;00m BleakError(\u001b[33mf\u001b[39m\u001b[33m\"\u001b[39m\u001b[38;5;132;01m{\u001b[39;00mfail_msg\u001b[38;5;132;01m}\u001b[39;00m\u001b[33m: Unreachable\u001b[39m\u001b[33m\"\u001b[39m)\n\u001b[32m    170\u001b[39m \u001b[38;5;28;01mraise\u001b[39;00m BleakError(\u001b[33mf\u001b[39m\u001b[33m\"\u001b[39m\u001b[38;5;132;01m{\u001b[39;00mfail_msg\u001b[38;5;132;01m}\u001b[39;00m\u001b[33m: Unexpected status code 0x\u001b[39m\u001b[38;5;132;01m{\u001b[39;00mstatus\u001b[38;5;132;01m:\u001b[39;00m\u001b[33m02X\u001b[39m\u001b[38;5;132;01m}\u001b[39;00m\u001b[33m\"\u001b[39m)\n",
      "\u001b[31mBleakError\u001b[39m: Could not read characteristic handle 17: Unreachable"
     ]
    }
   ],
   "source": [
    "from bleak import BleakClient\n",
    "\n",
    "address = \"BA:A1:AB:CC:FC:D7\"  # Beispielgerät-Adresse\n",
    "custom_char_uuid = \"0000ff03-0000-1000-8000-00805f9b34fb\"  # Custom UUID, die ggf. den Akkustand enthält\n",
    "\n",
    "async def read_custom_characteristic():\n",
    "    async with BleakClient(address) as client:\n",
    "        # Prüfe alle Services und deren Characteristics\n",
    "        services = await client.get_services()\n",
    "        for service in services:\n",
    "            for char in service.characteristics:\n",
    "                if char.uuid == custom_char_uuid:  # Wir suchen nach unserer Custom-UUID\n",
    "                    data = await client.read_gatt_char(custom_char_uuid)\n",
    "                    print(f\"Custom Data: {data}\")\n",
    "                    break\n",
    "\n",
    "await read_custom_characteristic()\n"
   ]
  },
  {
   "cell_type": "code",
   "execution_count": 11,
   "id": "d8df84ec",
   "metadata": {},
   "outputs": [
    {
     "name": "stdout",
     "output_type": "stream",
     "text": [
      "Verbunden mit dem Gerät\n",
      "Service: 00001801-0000-1000-8000-00805f9b34fb\n",
      "  Characteristic: 00002a05-0000-1000-8000-00805f9b34fb | ['indicate']\n",
      "Service: 00001800-0000-1000-8000-00805f9b34fb\n",
      "  Characteristic: 00002a00-0000-1000-8000-00805f9b34fb | ['read']\n",
      "  Characteristic: 00002a01-0000-1000-8000-00805f9b34fb | ['read']\n",
      "  Characteristic: 00002a04-0000-1000-8000-00805f9b34fb | ['read']\n",
      "  Characteristic: 00002aa6-0000-1000-8000-00805f9b34fb | ['read']\n",
      "Service: 000001ff-3c17-d293-8e48-14fe2e4da212\n",
      "  Characteristic: 0000ff02-0000-1000-8000-00805f9b34fb | ['write']\n",
      "  Characteristic: 0000ff03-0000-1000-8000-00805f9b34fb | ['read', 'write-without-response', 'notify']\n",
      "  Characteristic: 0000ff04-0000-1000-8000-00805f9b34fb | ['read', 'write']\n",
      "Service: 0000d0ff-3c17-d293-8e48-14fe2e4da212\n",
      "  Characteristic: 0000ffd1-0000-1000-8000-00805f9b34fb | ['write-without-response']\n",
      "  Characteristic: 0000ffd2-0000-1000-8000-00805f9b34fb | ['read']\n",
      "  Characteristic: 0000ffd3-0000-1000-8000-00805f9b34fb | ['read']\n",
      "  Characteristic: 0000ffd4-0000-1000-8000-00805f9b34fb | ['read']\n",
      "  Characteristic: 0000ffd5-0000-1000-8000-00805f9b34fb | ['read']\n",
      "  Characteristic: 0000ffd8-0000-1000-8000-00805f9b34fb | ['write-without-response']\n",
      "  Characteristic: 0000fff1-0000-1000-8000-00805f9b34fb | ['read']\n",
      "  Characteristic: 0000fff2-0000-1000-8000-00805f9b34fb | ['write']\n",
      "  Characteristic: 0000ffe0-0000-1000-8000-00805f9b34fb | ['read']\n",
      "  Characteristic: 0000fff3-0000-1000-8000-00805f9b34fb | ['read']\n",
      "Service: 00006287-3c17-d293-8e48-14fe2e4da212\n",
      "  Characteristic: 00006387-3c17-d293-8e48-14fe2e4da212 | ['write-without-response']\n",
      "  Characteristic: 00006487-3c17-d293-8e48-14fe2e4da212 | ['write', 'notify']\n",
      "Service: 0000fee7-0000-1000-8000-00805f9b34fb\n",
      "  Characteristic: 0000fec9-0000-1000-8000-00805f9b34fb | ['read']\n",
      "  Characteristic: 0000fea1-0000-1000-8000-00805f9b34fb | ['read', 'notify']\n",
      "Service: 00003802-0000-1000-8000-00805f9b34fb\n",
      "  Characteristic: 00004a02-0000-1000-8000-00805f9b34fb | ['read', 'write', 'notify']\n"
     ]
    },
    {
     "name": "stderr",
     "output_type": "stream",
     "text": [
      "C:\\Users\\RickE\\AppData\\Local\\Temp\\ipykernel_7828\\800124321.py:9: FutureWarning: This method will be removed future version, use the services property instead.\n",
      "  services = await client.get_services()\n"
     ]
    }
   ],
   "source": [
    "from bleak import BleakClient\n",
    "\n",
    "address = \"BA:A1:AB:CC:FC:D7\"  # Beispielgerät-Adresse\n",
    "\n",
    "async def check_connection():\n",
    "    try:\n",
    "        async with BleakClient(address) as client:\n",
    "            print(\"Verbunden mit dem Gerät\")\n",
    "            services = await client.get_services()\n",
    "            for service in services:\n",
    "                print(f\"Service: {service.uuid}\")\n",
    "                for characteristic in service.characteristics:\n",
    "                    print(f\"  Characteristic: {characteristic.uuid} | {characteristic.properties}\")\n",
    "    except Exception as e:\n",
    "        print(f\"Fehler bei der Verbindung: {e}\")\n",
    "\n",
    "await check_connection()\n"
   ]
  },
  {
   "cell_type": "code",
   "execution_count": 12,
   "id": "bc2e3349",
   "metadata": {},
   "outputs": [
    {
     "name": "stdout",
     "output_type": "stream",
     "text": [
      "Fehler beim Lesen der Characteristic: Could not read characteristic handle 6: Unreachable\n"
     ]
    }
   ],
   "source": [
    "async def read_battery_level():\n",
    "    try:\n",
    "        async with BleakClient(address) as client:\n",
    "            battery_level = await client.read_gatt_char(\"00002a00-0000-1000-8000-00805f9b34fb\")\n",
    "            print(f\"Battery level: {battery_level}\")\n",
    "    except Exception as e:\n",
    "        print(f\"Fehler beim Lesen der Characteristic: {e}\")\n",
    "\n",
    "await read_battery_level()\n"
   ]
  }
 ],
 "metadata": {
  "kernelspec": {
   "display_name": "Python 3",
   "language": "python",
   "name": "python3"
  },
  "language_info": {
   "codemirror_mode": {
    "name": "ipython",
    "version": 3
   },
   "file_extension": ".py",
   "mimetype": "text/x-python",
   "name": "python",
   "nbconvert_exporter": "python",
   "pygments_lexer": "ipython3",
   "version": "3.13.3"
  }
 },
 "nbformat": 4,
 "nbformat_minor": 5
}
