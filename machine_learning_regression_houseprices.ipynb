{
 "cells": [
  {
   "cell_type": "code",
   "execution_count": null,
   "id": "9a2830c9",
   "metadata": {},
   "outputs": [],
   "source": []
  },
  {
   "cell_type": "code",
   "execution_count": null,
   "id": "21926489",
   "metadata": {},
   "outputs": [],
   "source": [
    "import pandas as pd\n",
    "\n",
    "# Load the dataset directly from a GitHub raw CSV\n",
    "url = \"https://raw.githubusercontent.com/selva86/datasets/master/AmesHousing.csv\"\n",
    "df = pd.read_csv(url)\n",
    "\n",
    "# Show the first 5 rows\n",
    "print(df.head())\n"
   ]
  }
 ],
 "metadata": {
  "language_info": {
   "name": "python"
  }
 },
 "nbformat": 4,
 "nbformat_minor": 5
}
