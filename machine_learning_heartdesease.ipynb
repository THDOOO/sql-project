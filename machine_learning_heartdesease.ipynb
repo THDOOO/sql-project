{
 "cells": [
  {
   "cell_type": "code",
   "execution_count": 1,
   "id": "add790cd",
   "metadata": {},
   "outputs": [
    {
     "ename": "ImportError",
     "evalue": "cannot import name 'load_heart_disease' from 'sklearn.datasets' (c:\\Users\\RickE\\AppData\\Local\\Programs\\Python\\Python313\\Lib\\site-packages\\sklearn\\datasets\\__init__.py)",
     "output_type": "error",
     "traceback": [
      "\u001b[31m---------------------------------------------------------------------------\u001b[39m",
      "\u001b[31mImportError\u001b[39m                               Traceback (most recent call last)",
      "\u001b[36mCell\u001b[39m\u001b[36m \u001b[39m\u001b[32mIn[1]\u001b[39m\u001b[32m, line 2\u001b[39m\n\u001b[32m      1\u001b[39m \u001b[38;5;28;01mimport\u001b[39;00m\u001b[38;5;250m \u001b[39m\u001b[34;01mpandas\u001b[39;00m\u001b[38;5;250m \u001b[39m\u001b[38;5;28;01mas\u001b[39;00m\u001b[38;5;250m \u001b[39m\u001b[34;01mpd\u001b[39;00m\n\u001b[32m----> \u001b[39m\u001b[32m2\u001b[39m \u001b[38;5;28;01mfrom\u001b[39;00m\u001b[38;5;250m \u001b[39m\u001b[34;01msklearn\u001b[39;00m\u001b[34;01m.\u001b[39;00m\u001b[34;01mdatasets\u001b[39;00m\u001b[38;5;250m \u001b[39m\u001b[38;5;28;01mimport\u001b[39;00m load_heart_disease  \u001b[38;5;66;03m# This line doesn't exist — we'll simulate it\u001b[39;00m\n\u001b[32m      4\u001b[39m \u001b[38;5;66;03m# So instead, let's load it from a GitHub source (simulating seaborn style)\u001b[39;00m\n\u001b[32m      5\u001b[39m url = \u001b[33m\"\u001b[39m\u001b[33mhttps://raw.githubusercontent.com/datablist/sample-csv-files/main/files/people-heart.csv\u001b[39m\u001b[33m\"\u001b[39m\n",
      "\u001b[31mImportError\u001b[39m: cannot import name 'load_heart_disease' from 'sklearn.datasets' (c:\\Users\\RickE\\AppData\\Local\\Programs\\Python\\Python313\\Lib\\site-packages\\sklearn\\datasets\\__init__.py)"
     ]
    }
   ],
   "source": [
    "import pandas as pd\n",
    "from sklearn.datasets import load_heart_disease  # This line doesn't exist — we'll simulate it\n",
    "\n",
    "# So instead, let's load it from a GitHub source (simulating seaborn style)\n",
    "url = \"https://raw.githubusercontent.com/datablist/sample-csv-files/main/files/people-heart.csv\"\n",
    "df = pd.read_csv(url)\n",
    "\n",
    "df.head()\n"
   ]
  }
 ],
 "metadata": {
  "kernelspec": {
   "display_name": "Python 3",
   "language": "python",
   "name": "python3"
  },
  "language_info": {
   "codemirror_mode": {
    "name": "ipython",
    "version": 3
   },
   "file_extension": ".py",
   "mimetype": "text/x-python",
   "name": "python",
   "nbconvert_exporter": "python",
   "pygments_lexer": "ipython3",
   "version": "3.13.3"
  }
 },
 "nbformat": 4,
 "nbformat_minor": 5
}
